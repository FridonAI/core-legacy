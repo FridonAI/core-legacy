{
 "cells": [
  {
   "cell_type": "code",
   "execution_count": null,
   "id": "initial_id",
   "metadata": {
    "collapsed": true
   },
   "outputs": [],
   "source": [
    "import os\n",
    "\n",
    "from langgraph.checkpoint.aiosqlite import AsyncSqliteSaver\n",
    "\n",
    "os.environ[\"OPENAI_API_KEY\"] = \"\"\n",
    "os.environ[\"LANGCHAIN_TRACING_V2\"] = \"true\"\n",
    "os.environ[\"LANGCHAIN_ENDPOINT\"] = \"https://api.smith.langchain.com\"\n",
    "os.environ[\"LANGCHAIN_API_KEY\"] = \"\"\n",
    "os.environ[\"LANGCHAIN_PROJECT\"] = \"fridon-ai\"\n",
    "\n",
    "os.environ[\"PLAYER_TEMPLATE_PATH\"] = \"./data/templates/\"\n",
    "\n",
    "# from app.core.graph.workflows import graph"
   ]
  },
  {
   "cell_type": "code",
   "execution_count": null,
   "id": "d38b9c5ff3b0e004",
   "metadata": {
    "collapsed": false
   },
   "outputs": [],
   "source": [
    "from langchain_openai import ChatOpenAI\n",
    "from app.core.graph import create_graph\n",
    "from app.core.plugins.registry import ensure_plugin_registry\n",
    "\n",
    "\n",
    "plugin_names = [\"greeter\", \"kamino\", \"jupyter\", \"symmetry\", \"coin-price-chart-similarity-search\", \"coin-technical-analyzer\"]\n",
    "registry = ensure_plugin_registry()\n",
    "\n",
    "plugins = [registry.plugins[plugin_name]() for plugin_name in plugin_names]\n",
    "\n",
    "llm = ChatOpenAI(model=\"gpt-4o\", temperature=0)\n",
    "\n",
    "graph = create_graph(llm, plugins, memory=AsyncSqliteSaver.from_conn_string(\":memory:\"))\n"
   ]
  },
  {
   "cell_type": "code",
   "execution_count": null,
   "id": "21df33bedfc476da",
   "metadata": {
    "collapsed": false
   },
   "outputs": [],
   "source": [
    "from IPython.display import display, HTML\n",
    "import base64\n",
    "\n",
    "\n",
    "def display_image(image_bytes: bytes, width=1500):\n",
    "    decoded_img_bytes = base64.b64encode(image_bytes).decode(\"utf-8\")\n",
    "    html = f'<img src=\"data:image/png;base64,{decoded_img_bytes}\" style=\"width: {width}px;\" />'\n",
    "    display(HTML(html))"
   ]
  },
  {
   "cell_type": "code",
   "execution_count": null,
   "id": "8e44949bb6b746b9",
   "metadata": {
    "collapsed": false
   },
   "outputs": [],
   "source": [
    "import nest_asyncio\n",
    "from langchain_core.runnables.graph import CurveStyle, NodeColors, MermaidDrawMethod\n",
    "\n",
    "nest_asyncio.apply()  # Required for Jupyter Notebook to run async functions\n",
    "\n",
    "display_image(\n",
    "    graph.get_graph().draw_mermaid_png(\n",
    "        curve_style=CurveStyle.LINEAR,\n",
    "        node_colors=NodeColors(start=\"#ffdfba\", end=\"#baffc9\", other=\"#fad7de\"),\n",
    "        wrap_label_n_words=9,\n",
    "        output_file_path=None,\n",
    "        draw_method=MermaidDrawMethod.PYPPETEER,\n",
    "        background_color=\"white\",\n",
    "        padding=10,\n",
    "    )\n",
    ")"
   ]
  },
  {
   "cell_type": "code",
   "execution_count": null,
   "id": "3a10c52bc1e8f6fd",
   "metadata": {
    "collapsed": false
   },
   "outputs": [],
   "source": [
    "config = {\n",
    "    \"configurable\": {\n",
    "        \"thread_id\": \"bla\",\n",
    "        \"wallet_id\": \"adasdasdad\",\n",
    "        \"chat_id\": \"bla\"\n",
    "    }\n",
    "}\n"
   ]
  },
  {
   "cell_type": "code",
   "execution_count": null,
   "id": "2d7fe283e7b208d4",
   "metadata": {
    "collapsed": false
   },
   "outputs": [],
   "source": [
    "async for s in graph.astream(\n",
    "        {\n",
    "            \"messages\": [\n",
    "                \"Hi, how are you?\"\n",
    "            ],\n",
    "        },\n",
    "        config,\n",
    "        stream_mode=\"values\"\n",
    "):\n",
    "    if \"__end__\" not in s:\n",
    "        s[\"messages\"][-1].pretty_print()"
   ]
  },
  {
   "cell_type": "code",
   "execution_count": null,
   "id": "6cdb33766fdb0a8f",
   "metadata": {
    "collapsed": false
   },
   "outputs": [],
   "source": [
    "(await graph.aget_state(config)).values.get(\"used_agents\", [])"
   ]
  },
  {
   "cell_type": "code",
   "execution_count": null,
   "id": "88a46455a1f9b911",
   "metadata": {},
   "outputs": [],
   "source": []
  },
  {
   "cell_type": "code",
   "execution_count": null,
   "id": "42143019d7c36f23",
   "metadata": {},
   "outputs": [],
   "source": []
  },
  {
   "cell_type": "code",
   "execution_count": null,
   "id": "205f122c66947ad5",
   "metadata": {},
   "outputs": [],
   "source": []
  },
  {
   "cell_type": "code",
   "execution_count": null,
   "id": "67819f3a08a69162",
   "metadata": {},
   "outputs": [],
   "source": []
  },
  {
   "cell_type": "code",
   "execution_count": null,
   "id": "3d2429a70b82a4cf",
   "metadata": {},
   "outputs": [],
   "source": []
  },
  {
   "cell_type": "code",
   "execution_count": null,
   "id": "a71df80ca829caf1",
   "metadata": {},
   "outputs": [],
   "source": []
  },
  {
   "cell_type": "code",
   "execution_count": null,
   "id": "9e9ac9d3d092187",
   "metadata": {
    "jupyter": {
     "is_executing": true
    }
   },
   "outputs": [],
   "source": [
    "import pandas as pd\n",
    "import aiohttp\n",
    "from datetime import datetime, timedelta"
   ]
  },
  {
   "cell_type": "code",
   "execution_count": null,
   "id": "d46b682946d7d153",
   "metadata": {},
   "outputs": [],
   "source": [
    "async def fetch_data(symbol, interval, days=None, limit=1):\n",
    "    binance_interval = interval\n",
    "    if days is not None:\n",
    "        start_time = int((datetime.utcnow() - timedelta(days=days)).timestamp() * 1000)\n",
    "        url = f\"https://api.binance.com/api/v3/klines?symbol={symbol}&interval={binance_interval}&startTime={start_time}\"\n",
    "    else:\n",
    "        url = f\"https://api.binance.com/api/v3/klines?symbol={symbol}&interval={binance_interval}&limit={limit}\"\n",
    "    \n",
    "    async with aiohttp.ClientSession() as session:\n",
    "        async with session.get(url) as resp:\n",
    "            data = await resp.json()\n",
    "    \n",
    "    # Convert data to DataFrame\n",
    "    columns = ['Open time', 'Open', 'High', 'Low', 'Close', 'Volume', 'Close time',\n",
    "               'Quote asset volume', 'Number of trades', 'Taker buy base asset volume',\n",
    "               'Taker buy quote asset volume', 'Ignore']\n",
    "    df = pd.DataFrame(data, columns=columns)\n",
    "    df['Date'] = pd.to_datetime(df['Open time'], unit='ms')\n",
    "    df['Open'] = df['Open'].astype(float)\n",
    "    df['High'] = df['High'].astype(float)\n",
    "    df['Low'] = df['Low'].astype(float)\n",
    "    df['Close'] = df['Close'].astype(float)\n",
    "    df['Volume'] = df['Volume'].astype(float)\n",
    "    \n",
    "    df = df[['Date', 'Open', 'High', 'Low', 'Close', 'Volume']]\n",
    "    return df\n"
   ]
  },
  {
   "cell_type": "code",
   "execution_count": null,
   "id": "38295f2d",
   "metadata": {},
   "outputs": [],
   "source": [
    "df = await fetch_data('BTCUSDT', \"30m\", )"
   ]
  },
  {
   "cell_type": "code",
   "execution_count": null,
   "id": "786172d6",
   "metadata": {},
   "outputs": [],
   "source": [
    "df"
   ]
  },
  {
   "cell_type": "code",
   "execution_count": null,
   "id": "76f0583504990b67",
   "metadata": {},
   "outputs": [],
   "source": [
    "import pandas as pd\n",
    "import numpy as np\n",
    "import matplotlib.pyplot as plt\n",
    "\n",
    "# Sample function to calculate support and resistance levels\n",
    "def find_levels(df, timeframe, min_touches=2, tolerance=0.001):\n",
    "    \"\"\"\n",
    "    Finds support and resistance levels from a higher timeframe.\n",
    "    \n",
    "    Args:\n",
    "        df (pd.DataFrame): DataFrame containing OHLCV data.\n",
    "        timeframe (str): The timeframe to identify levels (e.g., '4H', 'D').\n",
    "        min_touches (int): Minimum number of touches required to validate a level.\n",
    "        tolerance (float): Tolerance for levels to consider them touched multiple times.\n",
    "        \n",
    "    Returns:\n",
    "        list: List containing resistance and support levels.\n",
    "    \"\"\"\n",
    "    df_resampled = df.resample(timeframe).agg({\n",
    "        'open': 'first',\n",
    "        'high': 'max',\n",
    "        'low': 'min',\n",
    "        'close': 'last',\n",
    "        'volume': 'sum'\n",
    "    })\n",
    "    \n",
    "    levels = []\n",
    "    for i in range(2, len(df_resampled) - 2):\n",
    "        if is_support(df_resampled, i):\n",
    "            levels.append(df_resampled['low'][i])\n",
    "        elif is_resistance(df_resampled, i):\n",
    "            levels.append(df_resampled['high'][i])\n",
    "    \n",
    "    # Filter levels by minimum touches\n",
    "    filtered_levels = []\n",
    "    for level in levels:\n",
    "        count = sum([abs(level - l) < tolerance for l in levels])\n",
    "        if count >= min_touches and level not in filtered_levels:\n",
    "            filtered_levels.append(level)\n",
    "    \n",
    "    return filtered_levels\n",
    "\n",
    "def is_support(df, i):\n",
    "    return df['low'][i] < df['low'][i - 1] and df['low'][i] < df['low'][i + 1] and df['low'][i + 1] < df['low'][i + 2] and df['low'][i - 1] < df['low'][i - 2]\n",
    "\n",
    "def is_resistance(df, i):\n",
    "    return df['high'][i] > df['high'][i - 1] and df['high'][i] > df['high'][i + 1] and df['high'][i + 1] > df['high'][i + 2] and df['high'][i - 1] > df['high'][i - 2]\n",
    "\n",
    "# Plotting function to visualize support and resistance levels\n",
    "def plot_levels(df, levels):\n",
    "    plt.figure(figsize=(12, 6))\n",
    "    plt.plot(df.index, df['close'], label='Close Price', color='blue')\n",
    "    for level in levels:\n",
    "        plt.axhline(y=level, color='r', linestyle='--', alpha=0.5)\n",
    "    plt.title('Support and Resistance Levels')\n",
    "    plt.legend()\n",
    "    plt.show()\n"
   ]
  },
  {
   "cell_type": "code",
   "execution_count": null,
   "id": "e85169ce",
   "metadata": {},
   "outputs": [],
   "source": [
    "df = await fetch_data('4h')\n",
    "# Parse dates and set index for df dataframe\n",
    "df['date'] = pd.to_datetime(df['date'])\n",
    "df.set_index('date', inplace=True)\n"
   ]
  },
  {
   "cell_type": "code",
   "execution_count": null,
   "id": "1dceaf3c",
   "metadata": {},
   "outputs": [],
   "source": [
    "df"
   ]
  },
  {
   "cell_type": "code",
   "execution_count": null,
   "id": "df47af79",
   "metadata": {},
   "outputs": [],
   "source": [
    "levels = find_levels(df, '1h')"
   ]
  },
  {
   "cell_type": "code",
   "execution_count": null,
   "id": "e5eab91f",
   "metadata": {},
   "outputs": [],
   "source": [
    "levels "
   ]
  },
  {
   "cell_type": "code",
   "execution_count": null,
   "id": "654586c4",
   "metadata": {},
   "outputs": [],
   "source": [
    "plot_levels(df, levels)"
   ]
  },
  {
   "cell_type": "code",
   "execution_count": null,
   "id": "524360d7",
   "metadata": {},
   "outputs": [],
   "source": [
    "\n",
    "async def get_top_200_coins():\n",
    "    url = \"https://api.binance.com/api/v3/ticker/24hr\"\n",
    "    \n",
    "    async with aiohttp.ClientSession() as session:\n",
    "        async with session.get(url) as resp:\n",
    "            data = await resp.json()\n",
    "    \n",
    "    # Sort coins by quote volume to get the top 100\n",
    "    sorted_data = sorted(data, key=lambda x: float(x['quoteVolume']), reverse=True)\n",
    "    top_100_symbols = [item['symbol'] for item in sorted_data if item['symbol'].endswith('USDT')][:200]\n",
    "    return top_100_symbols"
   ]
  },
  {
   "cell_type": "code",
   "execution_count": null,
   "id": "4a6741c6",
   "metadata": {},
   "outputs": [],
   "source": [
    "top_200_coins =await get_top_200_coins()"
   ]
  },
  {
   "cell_type": "code",
   "execution_count": null,
   "id": "fad97def",
   "metadata": {},
   "outputs": [],
   "source": [
    "filtered_coins = ['BTC', 'ETH'] + [coin[:-4] for coin in top_200_coins if not any(substring in coin[:-4] for substring in ['BTC', 'USD', 'ETH'])]\n",
    "filtered_coins\n"
   ]
  },
  {
   "cell_type": "code",
   "execution_count": null,
   "id": "4dbb0614",
   "metadata": {},
   "outputs": [],
   "source": []
  },
  {
   "cell_type": "code",
   "execution_count": null,
   "id": "be133fc6",
   "metadata": {},
   "outputs": [],
   "source": []
  }
 ],
 "metadata": {
  "kernelspec": {
   "display_name": "Python 3",
   "language": "python",
   "name": "python3"
  },
  "language_info": {
   "codemirror_mode": {
    "name": "ipython",
    "version": 3
   },
   "file_extension": ".py",
   "mimetype": "text/x-python",
   "name": "python",
   "nbconvert_exporter": "python",
   "pygments_lexer": "ipython3",
   "version": "3.11.7"
  }
 },
 "nbformat": 4,
 "nbformat_minor": 5
}
